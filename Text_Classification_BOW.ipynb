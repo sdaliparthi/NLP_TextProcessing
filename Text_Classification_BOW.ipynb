{
  "nbformat": 4,
  "nbformat_minor": 0,
  "metadata": {
    "colab": {
      "name": "Text_Classification_BOW.ipynb",
      "provenance": [],
      "collapsed_sections": [
        "C3BQbYtN2-5L",
        "WeHg23di3oHF",
        "9csJ86Bivg1H",
        "BHxULg4OggQe"
      ],
      "toc_visible": true,
      "machine_shape": "hm",
      "include_colab_link": true
    },
    "kernelspec": {
      "name": "python3",
      "display_name": "Python 3"
    }
  },
  "cells": [
    {
      "cell_type": "markdown",
      "metadata": {
        "id": "view-in-github",
        "colab_type": "text"
      },
      "source": [
        "<a href=\"https://colab.research.google.com/github/sdaliparthi/NLP_TextProcessing/blob/main/Text_Classification_BOW.ipynb\" target=\"_parent\"><img src=\"https://colab.research.google.com/assets/colab-badge.svg\" alt=\"Open In Colab\"/></a>"
      ]
    },
    {
      "cell_type": "markdown",
      "metadata": {
        "id": "C3BQbYtN2-5L"
      },
      "source": [
        "## Problem Statement"
      ]
    },
    {
      "cell_type": "markdown",
      "metadata": {
        "id": "DP5Nf6UZ3Ej1"
      },
      "source": [
        "The problem is to identify the subcategory and classify the question based on the group it belongs to.\n",
        "\n"
      ]
    },
    {
      "cell_type": "markdown",
      "metadata": {
        "id": "WeHg23di3oHF"
      },
      "source": [
        "## Learning Objectives"
      ]
    },
    {
      "cell_type": "markdown",
      "metadata": {
        "id": "27fwuBVS3tF3"
      },
      "source": [
        "At the end of the experiment, you will be able to understand:\n",
        "\n",
        "*   Beautiful Soup\n",
        "*   Use NLTK package\n",
        "*   Text Representation\n",
        "*   Classification"
      ]
    },
    {
      "cell_type": "markdown",
      "metadata": {
        "id": "FL0Ve1abn6YJ"
      },
      "source": [
        "## Dataset\n",
        "Being able to classify the questions will be difficult in natural language processing. The dataset is taken from the TalentSprint aptitude questions which contains more than 20K questions.\n",
        "\n",
        "## Description\n",
        "This dataset has the following columns:\n",
        "1. **Category:** Gives the high-level categorization of the question\n",
        "2. **Sub-Category:** Determines the type of questions\n",
        "3. **Article:** Gives the article name of the question\n",
        "4. **Questions:** Questions are listed\n",
        "5. **Answers:** Contains answers\n"
      ]
    },
    {
      "cell_type": "code",
      "metadata": {
        "id": "C7ATuq_4hzBv",
        "colab": {
          "base_uri": "https://localhost:8080/"
        },
        "cellView": "form",
        "outputId": "771cd7ac-d72d-4d2b-fb86-d5ac5932a6e7"
      },
      "source": [
        "#@title Download the datasets\n",
        "from IPython import get_ipython\n",
        "\n",
        "ipython = get_ipython()\n",
        "\n",
        "def setup(): \n",
        "    ipython.magic(\"sx wget https://cdn.iiith.talentsprint.com/aiml/Experiment_related_data/Aptitude_Classification_data.csv\")\n",
        "    ipython.magic(\"sx wget https://cdn.talentsprint.com/aiml/Experiment_related_data/Mentors_Test_Data.csv\")\n",
        "    from IPython.display import HTML, display\n",
        "    print(\"Setup completed successfully\")\n",
        "    return\n",
        "\n",
        "setup()"
      ],
      "execution_count": 1,
      "outputs": [
        {
          "output_type": "stream",
          "text": [
            "Setup completed successfully\n"
          ],
          "name": "stdout"
        }
      ]
    },
    {
      "cell_type": "code",
      "metadata": {
        "id": "WYyfIzohaMMC",
        "colab": {
          "base_uri": "https://localhost:8080/"
        },
        "outputId": "e73333de-d9a6-4443-92a3-fc3872848211"
      },
      "source": [
        "# Import Python Libraries\n",
        "from bs4 import BeautifulSoup\n",
        "import nltk\n",
        "import re\n",
        "import string\n",
        "import warnings\n",
        "import numpy as np\n",
        "import pandas as pd\n",
        "from collections import Counter\n",
        "from nltk import word_tokenize\n",
        "from nltk.corpus import stopwords\n",
        "from sklearn.neighbors import KNeighborsClassifier\n",
        "from sklearn.tree import DecisionTreeClassifier\n",
        "from sklearn.metrics import accuracy_score\n",
        "warnings.filterwarnings('ignore')\n",
        "nltk.download('punkt')\n",
        "nltk.download(\"stopwords\")\n",
        "nltk.download('averaged_perceptron_tagger')"
      ],
      "execution_count": 2,
      "outputs": [
        {
          "output_type": "stream",
          "text": [
            "[nltk_data] Downloading package punkt to /root/nltk_data...\n",
            "[nltk_data]   Unzipping tokenizers/punkt.zip.\n",
            "[nltk_data] Downloading package stopwords to /root/nltk_data...\n",
            "[nltk_data]   Unzipping corpora/stopwords.zip.\n",
            "[nltk_data] Downloading package averaged_perceptron_tagger to\n",
            "[nltk_data]     /root/nltk_data...\n",
            "[nltk_data]   Unzipping taggers/averaged_perceptron_tagger.zip.\n"
          ],
          "name": "stdout"
        },
        {
          "output_type": "execute_result",
          "data": {
            "text/plain": [
              "True"
            ]
          },
          "metadata": {
            "tags": []
          },
          "execution_count": 2
        }
      ]
    },
    {
      "cell_type": "code",
      "metadata": {
        "id": "rZ1vto-DAAvZ",
        "colab": {
          "base_uri": "https://localhost:8080/",
          "height": 204
        },
        "outputId": "3fe8e092-7622-4123-969c-94e66f21e0cf"
      },
      "source": [
        "# YOUR CODE HERE TO LOAD THE APTITUDE CLASSIFICATION DATASET & EXTRACT THE DATA BASED ON YOUR SUB-CATEGORIES\n",
        "## Sub-Category = Finding Errors, Ratio and Proportion, Logarithms, Time and Distance, Simple and Compound Interest\n",
        "### Read Data\n",
        "data = pd.read_csv('Aptitude_Classification_data.csv')\n",
        "\n",
        "### Select the rows based on required Sub-Category\n",
        "reqSubCat = ['Finding Errors', 'Ratio and Proportion', 'Logarithms', 'Time and Distance', 'Simple and Compound Interest']\n",
        "reqData = data[data['Sub-Category'].isin(reqSubCat)]\n",
        "assert sorted(reqData['Sub-Category'].unique()) == sorted(reqSubCat)\n",
        "reqData.head()\n"
      ],
      "execution_count": 3,
      "outputs": [
        {
          "output_type": "execute_result",
          "data": {
            "text/html": [
              "<div>\n",
              "<style scoped>\n",
              "    .dataframe tbody tr th:only-of-type {\n",
              "        vertical-align: middle;\n",
              "    }\n",
              "\n",
              "    .dataframe tbody tr th {\n",
              "        vertical-align: top;\n",
              "    }\n",
              "\n",
              "    .dataframe thead th {\n",
              "        text-align: right;\n",
              "    }\n",
              "</style>\n",
              "<table border=\"1\" class=\"dataframe\">\n",
              "  <thead>\n",
              "    <tr style=\"text-align: right;\">\n",
              "      <th></th>\n",
              "      <th>Category</th>\n",
              "      <th>Sub-Category</th>\n",
              "      <th>Article</th>\n",
              "      <th>Questions</th>\n",
              "      <th>Answers</th>\n",
              "    </tr>\n",
              "  </thead>\n",
              "  <tbody>\n",
              "    <tr>\n",
              "      <th>1</th>\n",
              "      <td>Quantitative</td>\n",
              "      <td>Time and Distance</td>\n",
              "      <td>Time and Distance - Model 05</td>\n",
              "      <td>Rohan leaves point A and reaches point B in 6 ...</td>\n",
              "      <td>2</td>\n",
              "    </tr>\n",
              "    <tr>\n",
              "      <th>2</th>\n",
              "      <td>Verbal</td>\n",
              "      <td>Finding Errors</td>\n",
              "      <td>44054</td>\n",
              "      <td>Read the sentence to find out whether there is...</td>\n",
              "      <td>2</td>\n",
              "    </tr>\n",
              "    <tr>\n",
              "      <th>5</th>\n",
              "      <td>Verbal</td>\n",
              "      <td>Finding Errors</td>\n",
              "      <td>44054</td>\n",
              "      <td>Read the sentence to find out whether there is...</td>\n",
              "      <td>2</td>\n",
              "    </tr>\n",
              "    <tr>\n",
              "      <th>9</th>\n",
              "      <td>Verbal</td>\n",
              "      <td>Finding Errors</td>\n",
              "      <td>44054</td>\n",
              "      <td>Read the sentence to find out whether there is...</td>\n",
              "      <td>2</td>\n",
              "    </tr>\n",
              "    <tr>\n",
              "      <th>12</th>\n",
              "      <td>Quantitative</td>\n",
              "      <td>Time and Distance</td>\n",
              "      <td>Time and Distance - Model 03</td>\n",
              "      <td>Two cars start from the same point at the same...</td>\n",
              "      <td>3</td>\n",
              "    </tr>\n",
              "  </tbody>\n",
              "</table>\n",
              "</div>"
            ],
            "text/plain": [
              "        Category  ... Answers\n",
              "1   Quantitative  ...       2\n",
              "2         Verbal  ...       2\n",
              "5         Verbal  ...       2\n",
              "9         Verbal  ...       2\n",
              "12  Quantitative  ...       3\n",
              "\n",
              "[5 rows x 5 columns]"
            ]
          },
          "metadata": {
            "tags": []
          },
          "execution_count": 3
        }
      ]
    },
    {
      "cell_type": "markdown",
      "metadata": {
        "id": "5RzclUxhkn67"
      },
      "source": [
        "## **Stage 2:** Data Pre-Processing\n",
        "\n",
        "1.   List item\n",
        "2.   List item\n",
        "\n",
        "\n",
        "\n",
        "###  Clean and Transform the data into a specified format\n",
        "\n",
        "*   Remove the rows of the Questions column which contains blank / NaN.\n",
        "\n",
        "\n",
        "*   Few set of questions have HTML tags within the question.\n",
        "  - You can use Beautiful Soup library to convert HTML into text (Refer **\"Dealing with HTML\"** section from this [link](https://www.nltk.org/book/ch03.html).)\n",
        "\n",
        "\n",
        "*  Consider Question column as feature and Sub-category as target variable. Convert Sub-category into numerical.\n",
        "\n",
        "*  Drop the unwanted columns\n",
        "\n",
        "\n",
        "  **Hint:** Use Label Encoder for obtaining a numeric representation, refer to the [link](https://scikit-learn.org/stable/modules/generated/sklearn.preprocessing.LabelEncoder.html). "
      ]
    },
    {
      "cell_type": "code",
      "metadata": {
        "id": "Whj-50DlTwyZ",
        "colab": {
          "base_uri": "https://localhost:8080/"
        },
        "outputId": "f122bb8c-92b8-41a1-d32b-1a17afa42b56"
      },
      "source": [
        "# YOUR CODE HERE for BeatifulSoup\n",
        "\n",
        "## Remove the rows with blank/NaN Questions\n",
        "print(reqData.isna().sum())\n",
        "print(f\"\\n ##> Data shape before dropna on Questions : {reqData.shape}\")\n",
        "reqData = reqData.dropna(subset=['Questions'])\n",
        "print(f\"\\n ##> Data shape after dropna on Questions : {reqData.shape}\")\n",
        "\n",
        "## Convert HTML into text\n",
        "reqData['Questions'] = reqData['Questions'].apply(lambda text: BeautifulSoup(text, 'html.parser').get_text())\n",
        "print(reqData['Questions'])\n",
        "\n",
        "## Drop unwanted columns\n",
        "reqData = reqData.drop(labels=['Category', 'Article', 'Answers'], axis=1)\n"
      ],
      "execution_count": 4,
      "outputs": [
        {
          "output_type": "stream",
          "text": [
            "Category        0\n",
            "Sub-Category    0\n",
            "Article         0\n",
            "Questions       0\n",
            "Answers         0\n",
            "dtype: int64\n",
            "\n",
            " ##> Data shape before dropna on Questions : (1607, 5)\n",
            "\n",
            " ##> Data shape after dropna on Questions : (1607, 5)\n",
            "1       Rohan leaves point A and reaches point B in 6 ...\n",
            "2       Read the sentence to find out whether there is...\n",
            "5       Read the sentence to find out whether there is...\n",
            "9       Read the sentence to find out whether there is...\n",
            "12      Two cars start from the same point at the same...\n",
            "                              ...                        \n",
            "4620    Until 1850, the speed of signals along nerves ...\n",
            "4622    Read the sentence to find out whether there is...\n",
            "4623    If a man cycles at 10 km/hr, then he arrives a...\n",
            "4625    Raj and Sai have money in the ratio 3 : 4. Twi...\n",
            "4630    A man sets out on cycle from Delhi to Faridaba...\n",
            "Name: Questions, Length: 1607, dtype: object\n"
          ],
          "name": "stdout"
        }
      ]
    },
    {
      "cell_type": "code",
      "metadata": {
        "colab": {
          "base_uri": "https://localhost:8080/",
          "height": 204
        },
        "id": "ENYN2FkD9iJ1",
        "outputId": "e8e2d1cc-1e26-4a0e-b676-d8bdc537da43"
      },
      "source": [
        "reqData.head()"
      ],
      "execution_count": 5,
      "outputs": [
        {
          "output_type": "execute_result",
          "data": {
            "text/html": [
              "<div>\n",
              "<style scoped>\n",
              "    .dataframe tbody tr th:only-of-type {\n",
              "        vertical-align: middle;\n",
              "    }\n",
              "\n",
              "    .dataframe tbody tr th {\n",
              "        vertical-align: top;\n",
              "    }\n",
              "\n",
              "    .dataframe thead th {\n",
              "        text-align: right;\n",
              "    }\n",
              "</style>\n",
              "<table border=\"1\" class=\"dataframe\">\n",
              "  <thead>\n",
              "    <tr style=\"text-align: right;\">\n",
              "      <th></th>\n",
              "      <th>Sub-Category</th>\n",
              "      <th>Questions</th>\n",
              "    </tr>\n",
              "  </thead>\n",
              "  <tbody>\n",
              "    <tr>\n",
              "      <th>1</th>\n",
              "      <td>Time and Distance</td>\n",
              "      <td>Rohan leaves point A and reaches point B in 6 ...</td>\n",
              "    </tr>\n",
              "    <tr>\n",
              "      <th>2</th>\n",
              "      <td>Finding Errors</td>\n",
              "      <td>Read the sentence to find out whether there is...</td>\n",
              "    </tr>\n",
              "    <tr>\n",
              "      <th>5</th>\n",
              "      <td>Finding Errors</td>\n",
              "      <td>Read the sentence to find out whether there is...</td>\n",
              "    </tr>\n",
              "    <tr>\n",
              "      <th>9</th>\n",
              "      <td>Finding Errors</td>\n",
              "      <td>Read the sentence to find out whether there is...</td>\n",
              "    </tr>\n",
              "    <tr>\n",
              "      <th>12</th>\n",
              "      <td>Time and Distance</td>\n",
              "      <td>Two cars start from the same point at the same...</td>\n",
              "    </tr>\n",
              "  </tbody>\n",
              "</table>\n",
              "</div>"
            ],
            "text/plain": [
              "         Sub-Category                                          Questions\n",
              "1   Time and Distance  Rohan leaves point A and reaches point B in 6 ...\n",
              "2      Finding Errors  Read the sentence to find out whether there is...\n",
              "5      Finding Errors  Read the sentence to find out whether there is...\n",
              "9      Finding Errors  Read the sentence to find out whether there is...\n",
              "12  Time and Distance  Two cars start from the same point at the same..."
            ]
          },
          "metadata": {
            "tags": []
          },
          "execution_count": 5
        }
      ]
    },
    {
      "cell_type": "code",
      "metadata": {
        "id": "VaMiP9gextc5",
        "colab": {
          "base_uri": "https://localhost:8080/",
          "height": 204
        },
        "outputId": "c03f085f-8bb4-40b7-b887-769c2ec2d6f9"
      },
      "source": [
        "from sklearn import preprocessing\n",
        "le = preprocessing.LabelEncoder() # DO NOT CHANGE THIS LINE as we will be using for the Test evaluation.\n",
        "\n",
        "# YOUR CODE HERE for Fit label encoder and return encoded labels\n",
        "reqData['Sub-Category'] = le.fit_transform(reqData['Sub-Category'])\n",
        "reqData.head()"
      ],
      "execution_count": 6,
      "outputs": [
        {
          "output_type": "execute_result",
          "data": {
            "text/html": [
              "<div>\n",
              "<style scoped>\n",
              "    .dataframe tbody tr th:only-of-type {\n",
              "        vertical-align: middle;\n",
              "    }\n",
              "\n",
              "    .dataframe tbody tr th {\n",
              "        vertical-align: top;\n",
              "    }\n",
              "\n",
              "    .dataframe thead th {\n",
              "        text-align: right;\n",
              "    }\n",
              "</style>\n",
              "<table border=\"1\" class=\"dataframe\">\n",
              "  <thead>\n",
              "    <tr style=\"text-align: right;\">\n",
              "      <th></th>\n",
              "      <th>Sub-Category</th>\n",
              "      <th>Questions</th>\n",
              "    </tr>\n",
              "  </thead>\n",
              "  <tbody>\n",
              "    <tr>\n",
              "      <th>1</th>\n",
              "      <td>4</td>\n",
              "      <td>Rohan leaves point A and reaches point B in 6 ...</td>\n",
              "    </tr>\n",
              "    <tr>\n",
              "      <th>2</th>\n",
              "      <td>0</td>\n",
              "      <td>Read the sentence to find out whether there is...</td>\n",
              "    </tr>\n",
              "    <tr>\n",
              "      <th>5</th>\n",
              "      <td>0</td>\n",
              "      <td>Read the sentence to find out whether there is...</td>\n",
              "    </tr>\n",
              "    <tr>\n",
              "      <th>9</th>\n",
              "      <td>0</td>\n",
              "      <td>Read the sentence to find out whether there is...</td>\n",
              "    </tr>\n",
              "    <tr>\n",
              "      <th>12</th>\n",
              "      <td>4</td>\n",
              "      <td>Two cars start from the same point at the same...</td>\n",
              "    </tr>\n",
              "  </tbody>\n",
              "</table>\n",
              "</div>"
            ],
            "text/plain": [
              "    Sub-Category                                          Questions\n",
              "1              4  Rohan leaves point A and reaches point B in 6 ...\n",
              "2              0  Read the sentence to find out whether there is...\n",
              "5              0  Read the sentence to find out whether there is...\n",
              "9              0  Read the sentence to find out whether there is...\n",
              "12             4  Two cars start from the same point at the same..."
            ]
          },
          "metadata": {
            "tags": []
          },
          "execution_count": 6
        }
      ]
    },
    {
      "cell_type": "markdown",
      "metadata": {
        "id": "yJok88a94tQ0"
      },
      "source": [
        "# Bag of Words (BOW)"
      ]
    },
    {
      "cell_type": "markdown",
      "metadata": {
        "id": "7AOtxyuBtdKv"
      },
      "source": [
        "## **Stage 3:** Text representation using Bag of Words (BOW)\n",
        "\n",
        "###  a) Get valid words from all questions & add them to a list.\n",
        "\n",
        "\n",
        "Treat each question as a separate document and get the list of words using the following:\n",
        "1.   Split the sentence into words\n",
        "\n",
        "2.   Remove Stop words. Use NLTK packages for getting the Stop words.\n",
        "\n",
        "3.   Replace proper names with \"name\" \n",
        "  - Example: \"Rahul\" -> \"name\"\n",
        "       \n",
        "4.   Remove the single white space character (\\n, \\t, \\f, \\r), refer [link](https://developers.google.com/edu/python/regular-expressions)\n",
        "\n",
        "5.   Ignore words whose length is less than 3 (Eg: 'is', 'a').\n",
        "\n",
        "6.   Remove punctuation and non-alphabetic words\n",
        "\n",
        "7.   Convert the text to lowercase\n",
        "\n",
        "8.   Use the Porter Stemmer to normalize the words\n",
        "\n",
        "\n",
        "Refer [link](https://www.nltk.org/book/ch03.html) for extracting the words.\n",
        "\n",
        "Refer [link](https://medium.com/free-code-camp/an-introduction-to-bag-of-words-and-how-to-code-it-in-python-for-nlp-282e87a9da04) for more information."
      ]
    },
    {
      "cell_type": "code",
      "metadata": {
        "id": "jLyMy2q9rGK_"
      },
      "source": [
        "def extract_words(question):\n",
        "    # YOUR CODE HERE\n",
        "    # Hint: Extract words for each question using the above 8 instructions.\n",
        "    porter = nltk.PorterStemmer()\n",
        "    ## Split the words\n",
        "    wordTokens = word_tokenize(question)\n",
        "    ## Remove stop words\n",
        "    wordListNoStop = [w for w in wordTokens if w not in set(stopwords.words('english'))]\n",
        "    ## Replace proper names\n",
        "    wordListNoName1 = ['name' if nltk.pos_tag([w]) == 'NNP' else w for w in wordListNoStop]\n",
        "    wordListNoName = ['name' if nltk.pos_tag([w]) == 'NNPs' else w for w in wordListNoName1]\n",
        "    ## Remove white spaces\n",
        "    wordListNoWS = [re.sub(r'[\\f\\n\\r\\s\\t]+','',w) for w in wordListNoName]\n",
        "    ## Ignore words with length less than 3\n",
        "    wordListNoLen = [w for w in wordListNoWS if len(w) >= 3]\n",
        "    ## Remove punctuation and non-alphabetic words\n",
        "    wordListNoPunc = [w for w in wordListNoLen if w not in string.punctuation]\n",
        "    #wordListNoNonAlpha = [re.sub(r'[^a-zA-Z]+','',w) for w in wordListNoPunc]\n",
        "    wordListNoNonAlpha = [w for w in wordListNoPunc if w.isalpha()]\n",
        "    ## Convert to lower case\n",
        "    wordListLC = [w.lower() for w in wordListNoNonAlpha]\n",
        "    ## Apply Porter Stemmer\n",
        "    wordList = [porter.stem(w) for w in wordListLC]\n",
        "    wordListNoPunc = [w for w in wordListNoLen if w is not '']\n",
        "    return wordList"
      ],
      "execution_count": 7,
      "outputs": []
    },
    {
      "cell_type": "code",
      "metadata": {
        "id": "C_eiynShd7bK"
      },
      "source": [
        "def tokenize(allquestions):\n",
        "  valid_words = []\n",
        "  for question in allquestions:\n",
        "    words = extract_words(question)\n",
        "    valid_words.extend(words)\n",
        "  return set(valid_words)"
      ],
      "execution_count": 8,
      "outputs": []
    },
    {
      "cell_type": "code",
      "metadata": {
        "id": "_ty4DphvV7oM",
        "colab": {
          "base_uri": "https://localhost:8080/"
        },
        "outputId": "2df494c4-0066-4960-8791-29dcce6afd53"
      },
      "source": [
        "# Use the function to extract words for all questions\n",
        "# YOUR CODE HERE\n",
        "vocab = tokenize(reqData['Questions'])\n",
        "len(vocab)#, vocab"
      ],
      "execution_count": 9,
      "outputs": [
        {
          "output_type": "execute_result",
          "data": {
            "text/plain": [
              "2429"
            ]
          },
          "metadata": {
            "tags": []
          },
          "execution_count": 9
        }
      ]
    },
    {
      "cell_type": "markdown",
      "metadata": {
        "id": "9csJ86Bivg1H"
      },
      "source": [
        "###  b) Generate vectors that can be used by the machine learning algorithm\n",
        "\n",
        "1.   The length of the vector for each question will be the length of the valid words. Initialize each vector with all Zeros\n",
        "\n",
        "2.   Compare each valid word with the words in question and generate the vectors based on the counter frequency of the word in that question.\n",
        "\n"
      ]
    },
    {
      "cell_type": "code",
      "metadata": {
        "id": "gbV4VzDOLQ4X"
      },
      "source": [
        "def generate_vectors(question):\n",
        "    # YOUR CODE HERE\n",
        "    # Hint: Initialize each vector with all zeros. \n",
        "    #reqVec = np.zeros((1, len(vocab)))\n",
        "    reqVec = np.zeros((len(vocab)))\n",
        "\n",
        "    # Extracting words for each question and count the words\n",
        "    words = extract_words(question)\n",
        "    word_dict = Counter(words)\n",
        "\n",
        "    # YOUR CODE HERE \n",
        "    # Hint: If the word is in valid words then generate the vectors based on the counter frequency of the word in that question.\n",
        "    for i,w in enumerate(vocab):\n",
        "        if w in word_dict.keys():\n",
        "            #reqVec[0,i] = word_dict[w]\n",
        "            reqVec[i] = word_dict[w]\n",
        "    return reqVec"
      ],
      "execution_count": 10,
      "outputs": []
    },
    {
      "cell_type": "code",
      "metadata": {
        "id": "mnQEkbj--Zof",
        "colab": {
          "base_uri": "https://localhost:8080/"
        },
        "outputId": "356372c7-20b4-4a49-d3fd-0b69e831fafd"
      },
      "source": [
        "# Use the above function for collecting the vectors of all questions into a list.\n",
        "# YOUR CODE HERE\n",
        "features = np.array([generate_vectors(sentance) for sentance in reqData['Questions']])\n",
        "labels = np.array([l for l in reqData['Sub-Category']])\n",
        "features.shape, labels.shape"
      ],
      "execution_count": 11,
      "outputs": [
        {
          "output_type": "execute_result",
          "data": {
            "text/plain": [
              "((1607, 2429), (1607,))"
            ]
          },
          "metadata": {
            "tags": []
          },
          "execution_count": 11
        }
      ]
    },
    {
      "cell_type": "code",
      "metadata": {
        "colab": {
          "base_uri": "https://localhost:8080/"
        },
        "id": "PWEQQZaogxuQ",
        "outputId": "92488f54-b454-4577-f0d2-486f82fd7797"
      },
      "source": [
        "from sklearn.feature_extraction.text import CountVectorizer\n",
        "vectorizer = CountVectorizer()\n",
        "X = vectorizer.fit_transform(reqData['Questions'])\n",
        "print(X.toarray())\n",
        "X.shape"
      ],
      "execution_count": 12,
      "outputs": [
        {
          "output_type": "stream",
          "text": [
            "[[0 0 0 ... 0 0 0]\n",
            " [0 0 0 ... 0 0 0]\n",
            " [0 0 0 ... 0 0 0]\n",
            " ...\n",
            " [0 0 0 ... 0 0 0]\n",
            " [0 0 0 ... 0 0 0]\n",
            " [0 0 0 ... 0 0 0]]\n"
          ],
          "name": "stdout"
        },
        {
          "output_type": "execute_result",
          "data": {
            "text/plain": [
              "(1607, 3947)"
            ]
          },
          "metadata": {
            "tags": []
          },
          "execution_count": 12
        }
      ]
    },
    {
      "cell_type": "markdown",
      "metadata": {
        "id": "I-Og4IX5ZYRm"
      },
      "source": [
        "## **Stage 4:** Classification\n",
        "\n",
        "### Perform a Classification \n",
        "\n",
        "1.   Identify the features and labels\n",
        "\n",
        "2.   Use train_test_split for splitting the train and test data\n",
        "\n",
        "3.   Fit your model on the train set using fit() and perform prediction on the test set using predict()\n",
        "\n",
        "4. Get the accuracy of the model\n",
        "\n",
        "## Expected Accuracy above 90%\n"
      ]
    },
    {
      "cell_type": "code",
      "metadata": {
        "id": "FjlN6HSMQkqm"
      },
      "source": [
        "from sklearn.model_selection import train_test_split\n",
        "# YOUR CODE HERE\n",
        "xTrain, xTest, yTrain, yTest = train_test_split(features, labels, test_size=0.20, random_state = 9)"
      ],
      "execution_count": 13,
      "outputs": []
    },
    {
      "cell_type": "code",
      "metadata": {
        "colab": {
          "base_uri": "https://localhost:8080/"
        },
        "id": "NtBUBOqVWSON",
        "outputId": "600ab096-6707-4fec-8b49-e02410765846"
      },
      "source": [
        "xTrain.shape, xTest.shape, yTrain.shape, yTest.shape"
      ],
      "execution_count": 14,
      "outputs": [
        {
          "output_type": "execute_result",
          "data": {
            "text/plain": [
              "((1285, 2429), (322, 2429), (1285,), (322,))"
            ]
          },
          "metadata": {
            "tags": []
          },
          "execution_count": 14
        }
      ]
    },
    {
      "cell_type": "code",
      "metadata": {
        "colab": {
          "base_uri": "https://localhost:8080/"
        },
        "id": "cHKrqihySwL5",
        "outputId": "49c82dd8-ddcc-49e9-e9b6-3a8fb9b92257"
      },
      "source": [
        "## Decision Tree\n",
        "dtClf = DecisionTreeClassifier(criterion='entropy', max_depth=31, random_state=1)\n",
        "dtClf.fit(xTrain, yTrain)\n",
        "yPred = dtClf.predict(xTest)\n",
        "print(f\"##> Training Accuracy with DECISSION TREE : {dtClf.score(xTrain,yTrain)}\")\n",
        "print(f\"##> Testing Accuracy with DECISSION TREE : {accuracy_score(yTest, yPred)}\\n\")"
      ],
      "execution_count": 15,
      "outputs": [
        {
          "output_type": "stream",
          "text": [
            "##> Training Accuracy with DECISSION TREE : 0.9758754863813229\n",
            "##> Testing Accuracy with DECISSION TREE : 0.9192546583850931\n",
            "\n"
          ],
          "name": "stdout"
        }
      ]
    },
    {
      "cell_type": "code",
      "metadata": {
        "colab": {
          "base_uri": "https://localhost:8080/"
        },
        "id": "Dm1nCC9KCpGH",
        "outputId": "05f4971e-fed1-4aea-bb52-08a2107bd021"
      },
      "source": [
        "## KNN\n",
        "knnClf = KNeighborsClassifier(n_neighbors=2, weights='distance', p=1) # 100% accuracy with n_neighbors=2\n",
        "#knnClf = KNeighborsClassifier()\n",
        "knnClf.fit(xTrain,yTrain)\n",
        "yPred = knnClf.predict(xTest)\n",
        "print(f\"##> Training Accuracy with KNN : {knnClf.score(xTrain,yTrain)}\")\n",
        "print(f\"##> Testing Accuracy with KNN : {accuracy_score(yTest, yPred)}\\n\")"
      ],
      "execution_count": 16,
      "outputs": [
        {
          "output_type": "stream",
          "text": [
            "##> Training Accuracy with KNN : 0.9906614785992218\n",
            "##> Testing Accuracy with KNN : 0.8229813664596274\n",
            "\n"
          ],
          "name": "stdout"
        }
      ]
    },
    {
      "cell_type": "code",
      "metadata": {
        "colab": {
          "base_uri": "https://localhost:8080/"
        },
        "id": "6i9Va9fFFF7s",
        "outputId": "733a5a19-9295-43ec-dd2c-05c2a5189dde"
      },
      "source": [
        "## Linear Classifier\n",
        "from sklearn.linear_model import SGDClassifier\n",
        "linClf = SGDClassifier(loss='perceptron', alpha=0.001)\n",
        "linClf.fit(xTrain,yTrain)\n",
        "yPred = linClf.predict(xTest)\n",
        "print(f\"##> Training Accuracy with LINEAR CLASSIFIER : {linClf.score(xTrain,yTrain)}\")\n",
        "print(f\"##> Testing Accuracy with LINEAR CLASSIFIER : {accuracy_score(yTest, yPred)}\\n\")"
      ],
      "execution_count": 17,
      "outputs": [
        {
          "output_type": "stream",
          "text": [
            "##> Training Accuracy with LINEAR CLASSIFIER : 0.9898832684824903\n",
            "##> Testing Accuracy with LINEAR CLASSIFIER : 0.9316770186335404\n",
            "\n"
          ],
          "name": "stdout"
        }
      ]
    },
    {
      "cell_type": "code",
      "metadata": {
        "colab": {
          "base_uri": "https://localhost:8080/"
        },
        "id": "DUqTNmrHq0dU",
        "outputId": "f599889b-e278-4952-81af-111a68aa3580"
      },
      "source": [
        "## Logistic Regression\n",
        "from sklearn.linear_model import LogisticRegression\n",
        "logClf = LogisticRegression(random_state=2)\n",
        "logClf.fit(xTrain,yTrain)\n",
        "yPred = logClf.predict(xTest)\n",
        "print(f\"##> Training Accuracy with LINEAR CLASSIFIER : {logClf.score(xTrain,yTrain)}\")\n",
        "print(f\"##> Testing Accuracy with LINEAR CLASSIFIER : {accuracy_score(yTest, yPred)}\\n\")"
      ],
      "execution_count": 18,
      "outputs": [
        {
          "output_type": "stream",
          "text": [
            "##> Training Accuracy with LINEAR CLASSIFIER : 0.9891050583657588\n",
            "##> Testing Accuracy with LINEAR CLASSIFIER : 0.9409937888198758\n",
            "\n"
          ],
          "name": "stdout"
        }
      ]
    },
    {
      "cell_type": "code",
      "metadata": {
        "colab": {
          "base_uri": "https://localhost:8080/"
        },
        "id": "4bMY6MAoFIt8",
        "outputId": "1d7080c0-9a16-40fa-fadd-c24a647fb59a"
      },
      "source": [
        "## SVM\n",
        "from sklearn.svm import SVC \n",
        "svmClf = SVC(C=2.0)\n",
        "svmClf.fit(xTrain, yTrain)\n",
        "yPred = svmClf.predict(xTest)\n",
        "print(f\"##> Training Accuracy with SVM CLASSIFIER : {svmClf.score(xTrain,yTrain)}\")\n",
        "print(f\"##> Testing Accuracy with SVM CLASSIFIER : {accuracy_score(yTest, yPred)}\\n\")"
      ],
      "execution_count": 19,
      "outputs": [
        {
          "output_type": "stream",
          "text": [
            "##> Training Accuracy with SVM CLASSIFIER : 0.977431906614786\n",
            "##> Testing Accuracy with SVM CLASSIFIER : 0.9409937888198758\n",
            "\n"
          ],
          "name": "stdout"
        }
      ]
    },
    {
      "cell_type": "code",
      "metadata": {
        "colab": {
          "base_uri": "https://localhost:8080/"
        },
        "id": "NxjqHHy5FhU8",
        "outputId": "9fe5449a-d0a6-4cf6-eb76-d65b1ad2f2c5"
      },
      "source": [
        "## Ensemble : Voting\n",
        "from sklearn.ensemble import VotingClassifier\n",
        "voteClf = VotingClassifier(estimators=[('SVC',svmClf),('Dtree',dtClf),('LogReg',logClf)], voting = 'hard')\n",
        "voteClf.fit(xTrain, yTrain)\n",
        "yPred = voteClf.predict(xTest)\n",
        "print(f\"##> Training Accuracy with LINEAR CLASSIFIER : {voteClf.score(xTrain,yTrain)}\")\n",
        "print(f\"##> Testing Accuracy with LINEAR CLASSIFIER : {accuracy_score(yTest, yPred)}\\n\")"
      ],
      "execution_count": 20,
      "outputs": [
        {
          "output_type": "stream",
          "text": [
            "##> Training Accuracy with LINEAR CLASSIFIER : 0.9859922178988327\n",
            "##> Testing Accuracy with LINEAR CLASSIFIER : 0.9409937888198758\n",
            "\n"
          ],
          "name": "stdout"
        }
      ]
    },
    {
      "cell_type": "code",
      "metadata": {
        "colab": {
          "base_uri": "https://localhost:8080/"
        },
        "id": "1GXhvizpt7j_",
        "outputId": "3d9d3d59-5f6e-47ef-d7ea-bb63a76dc931"
      },
      "source": [
        "voteClf.estimators"
      ],
      "execution_count": 21,
      "outputs": [
        {
          "output_type": "execute_result",
          "data": {
            "text/plain": [
              "[('SVC',\n",
              "  SVC(C=2.0, break_ties=False, cache_size=200, class_weight=None, coef0=0.0,\n",
              "      decision_function_shape='ovr', degree=3, gamma='scale', kernel='rbf',\n",
              "      max_iter=-1, probability=False, random_state=None, shrinking=True,\n",
              "      tol=0.001, verbose=False)),\n",
              " ('Dtree',\n",
              "  DecisionTreeClassifier(ccp_alpha=0.0, class_weight=None, criterion='entropy',\n",
              "                         max_depth=31, max_features=None, max_leaf_nodes=None,\n",
              "                         min_impurity_decrease=0.0, min_impurity_split=None,\n",
              "                         min_samples_leaf=1, min_samples_split=2,\n",
              "                         min_weight_fraction_leaf=0.0, presort='deprecated',\n",
              "                         random_state=1, splitter='best')),\n",
              " ('LogReg',\n",
              "  LogisticRegression(C=1.0, class_weight=None, dual=False, fit_intercept=True,\n",
              "                     intercept_scaling=1, l1_ratio=None, max_iter=100,\n",
              "                     multi_class='auto', n_jobs=None, penalty='l2',\n",
              "                     random_state=2, solver='lbfgs', tol=0.0001, verbose=0,\n",
              "                     warm_start=False))]"
            ]
          },
          "metadata": {
            "tags": []
          },
          "execution_count": 21
        }
      ]
    },
    {
      "cell_type": "code",
      "metadata": {
        "id": "wVvqA7_YG0Oy",
        "colab": {
          "base_uri": "https://localhost:8080/"
        },
        "outputId": "a12fa3e2-6d51-4fb0-c131-a19293c8fd53"
      },
      "source": [
        "## Ensemble : Bagging + Voting\n",
        "from sklearn.ensemble import BaggingClassifier\n",
        "bgVotClf = BaggingClassifier(base_estimator=voteClf, n_estimators=10, bootstrap=True)\n",
        "bgVotClf.fit(xTrain, yTrain)\n",
        "yPred = bgVotClf.predict(xTest)\n",
        "print(f\"##> Training Accuracy with LINEAR CLASSIFIER : {bgVotClf.score(xTrain,yTrain)}\")\n",
        "print(f\"##> Testing Accuracy with LINEAR CLASSIFIER : {accuracy_score(yTest, yPred)}\\n\")"
      ],
      "execution_count": 22,
      "outputs": [
        {
          "output_type": "stream",
          "text": [
            "##> Training Accuracy with LINEAR CLASSIFIER : 0.9875486381322958\n",
            "##> Testing Accuracy with LINEAR CLASSIFIER : 0.937888198757764\n",
            "\n"
          ],
          "name": "stdout"
        }
      ]
    },
    {
      "cell_type": "code",
      "metadata": {
        "colab": {
          "base_uri": "https://localhost:8080/"
        },
        "id": "uiHXiqQ1LJcA",
        "outputId": "eaf2c297-9a33-4637-a5aa-e70b73b93dae"
      },
      "source": [
        "## Ensemble : Bagging + DT\n",
        "from sklearn.ensemble import BaggingClassifier\n",
        "bgDTClf = BaggingClassifier(base_estimator=DecisionTreeClassifier(criterion='gini', max_depth=29), n_estimators=100, bootstrap=True)\n",
        "bgDTClf.fit(xTrain, yTrain)\n",
        "yPred = bgDTClf.predict(xTest)\n",
        "print(f\"##> Training Accuracy with LINEAR CLASSIFIER : {bgDTClf.score(xTrain,yTrain)}\")\n",
        "print(f\"##> Testing Accuracy with LINEAR CLASSIFIER : {accuracy_score(yTest, yPred)}\\n\")"
      ],
      "execution_count": 23,
      "outputs": [
        {
          "output_type": "stream",
          "text": [
            "##> Training Accuracy with LINEAR CLASSIFIER : 0.9867704280155642\n",
            "##> Testing Accuracy with LINEAR CLASSIFIER : 0.922360248447205\n",
            "\n"
          ],
          "name": "stdout"
        }
      ]
    },
    {
      "cell_type": "code",
      "metadata": {
        "colab": {
          "base_uri": "https://localhost:8080/"
        },
        "id": "Dz-a2DQTuUEr",
        "outputId": "90811d32-cc3b-4388-e10c-f369a7868c46"
      },
      "source": [
        "## Ensemble : Bagging + LR\n",
        "from sklearn.ensemble import BaggingClassifier\n",
        "bgDTClf = BaggingClassifier(base_estimator=LogisticRegression(random_state=2), n_estimators=30, bootstrap=True)\n",
        "bgDTClf.fit(xTrain, yTrain)\n",
        "yPred = bgDTClf.predict(xTest)\n",
        "print(f\"##> Training Accuracy with LINEAR CLASSIFIER : {bgDTClf.score(xTrain,yTrain)}\")\n",
        "print(f\"##> Testing Accuracy with LINEAR CLASSIFIER : {accuracy_score(yTest, yPred)}\\n\")"
      ],
      "execution_count": 24,
      "outputs": [
        {
          "output_type": "stream",
          "text": [
            "##> Training Accuracy with LINEAR CLASSIFIER : 0.9867704280155642\n",
            "##> Testing Accuracy with LINEAR CLASSIFIER : 0.9347826086956522\n",
            "\n"
          ],
          "name": "stdout"
        }
      ]
    },
    {
      "cell_type": "markdown",
      "metadata": {
        "id": "BHxULg4OggQe"
      },
      "source": [
        "## **Stage 5:** Evaluation with entirely new data\n",
        "\n",
        "### Evaluate with the given test data \n",
        "\n",
        "1.  Loading the Test data\n",
        "\n",
        "2.  Converting the Test data into vectors\n",
        "\n",
        "3.  Pass through the model and verify the accuracy\n",
        "\n",
        "## Expected Accuracy above 90%\n"
      ]
    },
    {
      "cell_type": "code",
      "metadata": {
        "id": "BWM4Boa4zXAs",
        "colab": {
          "base_uri": "https://localhost:8080/"
        },
        "outputId": "5d6b6bac-5f38-4781-aece-db5273ce8a8b"
      },
      "source": [
        "# YOUR CODE HERE for selecting the trained classifier model, eg: MODEL = decision_tree\n",
        "MODEL = voteClf # bgDTClf #bgVotClf # voteClf # dtClf #ENTER YOUR MODEL\n",
        "\n",
        "Test_data = pd.read_csv(\"Mentors_Test_Data.csv\")\n",
        "Test_data = Test_data[Test_data['Sub-Category'].isin(le.classes_)]\n",
        "labels = le.transform(Test_data['Sub-Category'])\n",
        "Test_questions= Test_data['Questions']\n",
        "\n",
        "Test_BOW=[]\n",
        "for TQ in Test_questions: \n",
        "  Test_vectors = generate_vectors(TQ) \n",
        "  Test_BOW.append(Test_vectors)\n",
        "\n",
        "predict = MODEL.predict(Test_BOW) \n",
        "accuracy_score(labels, predict)"
      ],
      "execution_count": 25,
      "outputs": [
        {
          "output_type": "execute_result",
          "data": {
            "text/plain": [
              "0.9438202247191011"
            ]
          },
          "metadata": {
            "tags": []
          },
          "execution_count": 25
        }
      ]
    }
  ]
}