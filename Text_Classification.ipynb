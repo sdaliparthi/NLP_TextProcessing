{
  "nbformat": 4,
  "nbformat_minor": 0,
  "metadata": {
    "colab": {
      "name": "U1_MH2_AptitudeClassification_Shashi.ipynb",
      "provenance": [],
      "collapsed_sections": [],
      "machine_shape": "hm"
    },
    "kernelspec": {
      "name": "python3",
      "display_name": "Python 3"
    }
  },
  "cells": [
    {
      "cell_type": "markdown",
      "metadata": {
        "id": "PsKRUcQh27Dp"
      },
      "source": [
        "# Advanced Certification in AIML\n",
        "## A Program by IIIT-H and TalentSprint"
      ]
    },
    {
      "cell_type": "markdown",
      "metadata": {
        "id": "C3BQbYtN2-5L"
      },
      "source": [
        "## Problem Statement"
      ]
    },
    {
      "cell_type": "markdown",
      "metadata": {
        "id": "DP5Nf6UZ3Ej1"
      },
      "source": [
        "The problem is to identify the subcategory and classify the question based on the group it belongs to.\n",
        "\n"
      ]
    },
    {
      "cell_type": "markdown",
      "metadata": {
        "id": "WeHg23di3oHF"
      },
      "source": [
        "## Learning Objectives"
      ]
    },
    {
      "cell_type": "markdown",
      "metadata": {
        "id": "27fwuBVS3tF3"
      },
      "source": [
        "At the end of the experiment, you will be able to understand:\n",
        "\n",
        "*   Beautiful Soup\n",
        "*   Use NLTK package\n",
        "*   Text Representation\n",
        "*   Classification"
      ]
    },
    {
      "cell_type": "code",
      "metadata": {
        "id": "nYG9AXM_oe--",
        "cellView": "form",
        "colab": {
          "base_uri": "https://localhost:8080/",
          "height": 261
        },
        "outputId": "494109d9-a04b-4536-95a0-c37ddec9bd2e"
      },
      "source": [
        "#@title  Mini Hackathon Walkthrough\n",
        "from IPython.display import HTML\n",
        "\n",
        "HTML(\"\"\"<video width=\"320\" height=\"240\" controls>\n",
        "  <source src=\"https://cdn.talentsprint.com/talentsprint/archives/sc/aiml/aiml_batch_15/preview_videos/Mini_Hackathon_Aptitude_Classification.mp4\" type=\"video/mp4\">\n",
        "</video>\n",
        "\"\"\")"
      ],
      "execution_count": null,
      "outputs": [
        {
          "output_type": "execute_result",
          "data": {
            "text/html": [
              "<video width=\"320\" height=\"240\" controls>\n",
              "  <source src=\"https://cdn.talentsprint.com/talentsprint/archives/sc/aiml/aiml_batch_15/preview_videos/Mini_Hackathon_Aptitude_Classification.mp4\" type=\"video/mp4\">\n",
              "</video>\n"
            ],
            "text/plain": [
              "<IPython.core.display.HTML object>"
            ]
          },
          "metadata": {
            "tags": []
          },
          "execution_count": 1
        }
      ]
    },
    {
      "cell_type": "markdown",
      "metadata": {
        "id": "FL0Ve1abn6YJ"
      },
      "source": [
        "## Dataset\n",
        "Being able to classify the questions will be difficult in natural language processing. The dataset is taken from the TalentSprint aptitude questions which contains more than 20K questions.\n",
        "\n",
        "## Description\n",
        "This dataset has the following columns:\n",
        "1. **Category:** Gives the high-level categorization of the question\n",
        "2. **Sub-Category:** Determines the type of questions\n",
        "3. **Article:** Gives the article name of the question\n",
        "4. **Questions:** Questions are listed\n",
        "5. **Answers:** Contains answers\n"
      ]
    },
    {
      "cell_type": "markdown",
      "metadata": {
        "id": "ndQNKsjS7c04"
      },
      "source": [
        "### Grading = 20 Marks"
      ]
    },
    {
      "cell_type": "code",
      "metadata": {
        "id": "C7ATuq_4hzBv",
        "cellView": "form",
        "colab": {
          "base_uri": "https://localhost:8080/"
        },
        "outputId": "fa3b6804-6b9c-475c-c4ed-70e484582336"
      },
      "source": [
        "#@title Download the datasets\n",
        "from IPython import get_ipython\n",
        "\n",
        "ipython = get_ipython()\n",
        "\n",
        "def setup(): \n",
        "    ipython.magic(\"sx wget https://cdn.iiith.talentsprint.com/aiml/Experiment_related_data/Aptitude_Classification_data.csv\")\n",
        "    ipython.magic(\"sx wget https://cdn.talentsprint.com/aiml/Experiment_related_data/Mentors_Test_Data.csv\")\n",
        "    from IPython.display import HTML, display\n",
        "    print(\"Setup completed successfully\")\n",
        "    return\n",
        "\n",
        "setup()"
      ],
      "execution_count": null,
      "outputs": [
        {
          "output_type": "stream",
          "text": [
            "Setup completed successfully\n"
          ],
          "name": "stdout"
        }
      ]
    },
    {
      "cell_type": "code",
      "metadata": {
        "id": "WYyfIzohaMMC",
        "colab": {
          "base_uri": "https://localhost:8080/"
        },
        "outputId": "7ab53b62-4d86-4733-ae47-5bdde86a9372"
      },
      "source": [
        "# Import Python Libraries\n",
        "from bs4 import BeautifulSoup\n",
        "import nltk\n",
        "import re\n",
        "import string\n",
        "import warnings\n",
        "import numpy as np\n",
        "import pandas as pd\n",
        "from collections import Counter\n",
        "from nltk import word_tokenize\n",
        "from nltk.corpus import stopwords\n",
        "from sklearn.neighbors import KNeighborsClassifier\n",
        "from sklearn.tree import DecisionTreeClassifier\n",
        "from sklearn.metrics import accuracy_score\n",
        "warnings.filterwarnings('ignore')\n",
        "nltk.download('punkt')\n",
        "nltk.download(\"stopwords\")\n",
        "nltk.download('averaged_perceptron_tagger')"
      ],
      "execution_count": 1,
      "outputs": [
        {
          "output_type": "stream",
          "text": [
            "[nltk_data] Downloading package punkt to /root/nltk_data...\n",
            "[nltk_data]   Unzipping tokenizers/punkt.zip.\n",
            "[nltk_data] Downloading package stopwords to /root/nltk_data...\n",
            "[nltk_data]   Unzipping corpora/stopwords.zip.\n",
            "[nltk_data] Downloading package averaged_perceptron_tagger to\n",
            "[nltk_data]     /root/nltk_data...\n",
            "[nltk_data]   Unzipping taggers/averaged_perceptron_tagger.zip.\n"
          ],
          "name": "stdout"
        },
        {
          "output_type": "execute_result",
          "data": {
            "text/plain": [
              "True"
            ]
          },
          "metadata": {
            "tags": []
          },
          "execution_count": 1
        }
      ]
    },
    {
      "cell_type": "markdown",
      "metadata": {
        "id": "2DKmejLMh2YH"
      },
      "source": [
        "##   **Stage 1**:  Dataset Preparation\n",
        "\n",
        "### 1 Mark -> Load the data set and prepare the data based on group allocation. \n",
        "\n",
        "Each group should consider their respective sub-categories as mentioned below:\n",
        "\n",
        "> Team A = Groups 1, 4, 7, 10, 13, 16, 19, 22;   &nbsp; &nbsp;   Sub-Category = Misspell words, Algebra, Percentages, Mathematical operations, Probability\n",
        "\n",
        "> Team B = Groups 2, 5, 8, 11, 14, 17, 20, 23; &nbsp; &nbsp;   Sub-Category = Finding Errors, Ratio and Proportion, Logarithms, Time and Distance, Simple and Compound Interest\n",
        "\n",
        "> Team C = Groups 3, 6, 9, 12, 15, 18, 21, 24;  &nbsp; &nbsp;  Sub-Category =  Synonyms and Antonyms, Time and Work, Permutations and Combinations, LCM and HCF, Profit and Loss\n",
        "\n",
        "\n",
        "**Hint:** &nbsp; To access Sub-Categories from given Data, refer [link](https://pandas.pydata.org/pandas-docs/stable/reference/api/pandas.DataFrame.isin.html)"
      ]
    },
    {
      "cell_type": "code",
      "metadata": {
        "id": "rZ1vto-DAAvZ",
        "colab": {
          "base_uri": "https://localhost:8080/",
          "height": 204
        },
        "outputId": "3d576350-d2c0-4748-98fa-c28e972905f8"
      },
      "source": [
        "# YOUR CODE HERE TO LOAD THE APTITUDE CLASSIFICATION DATASET & EXTRACT THE DATA BASED ON YOUR SUB-CATEGORIES\n",
        "## Group-8 comes under Team B\n",
        "### Read Data\n",
        "data = pd.read_csv('Aptitude_Classification_data.csv')\n",
        "\n",
        "### Select the rows based on required Sub-Category\n",
        "reqSubCat = ['Finding Errors', 'Ratio and Proportion', 'Logarithms', 'Time and Distance', 'Simple and Compound Interest']\n",
        "reqData = data[data['Sub-Category'].isin(reqSubCat)]\n",
        "assert sorted(reqData['Sub-Category'].unique()) == sorted(reqSubCat)\n",
        "reqData.head()\n"
      ],
      "execution_count": null,
      "outputs": [
        {
          "output_type": "execute_result",
          "data": {
            "text/html": [
              "<div>\n",
              "<style scoped>\n",
              "    .dataframe tbody tr th:only-of-type {\n",
              "        vertical-align: middle;\n",
              "    }\n",
              "\n",
              "    .dataframe tbody tr th {\n",
              "        vertical-align: top;\n",
              "    }\n",
              "\n",
              "    .dataframe thead th {\n",
              "        text-align: right;\n",
              "    }\n",
              "</style>\n",
              "<table border=\"1\" class=\"dataframe\">\n",
              "  <thead>\n",
              "    <tr style=\"text-align: right;\">\n",
              "      <th></th>\n",
              "      <th>Category</th>\n",
              "      <th>Sub-Category</th>\n",
              "      <th>Article</th>\n",
              "      <th>Questions</th>\n",
              "      <th>Answers</th>\n",
              "    </tr>\n",
              "  </thead>\n",
              "  <tbody>\n",
              "    <tr>\n",
              "      <th>1</th>\n",
              "      <td>Quantitative</td>\n",
              "      <td>Time and Distance</td>\n",
              "      <td>Time and Distance - Model 05</td>\n",
              "      <td>Rohan leaves point A and reaches point B in 6 ...</td>\n",
              "      <td>2</td>\n",
              "    </tr>\n",
              "    <tr>\n",
              "      <th>2</th>\n",
              "      <td>Verbal</td>\n",
              "      <td>Finding Errors</td>\n",
              "      <td>44054</td>\n",
              "      <td>Read the sentence to find out whether there is...</td>\n",
              "      <td>2</td>\n",
              "    </tr>\n",
              "    <tr>\n",
              "      <th>5</th>\n",
              "      <td>Verbal</td>\n",
              "      <td>Finding Errors</td>\n",
              "      <td>44054</td>\n",
              "      <td>Read the sentence to find out whether there is...</td>\n",
              "      <td>2</td>\n",
              "    </tr>\n",
              "    <tr>\n",
              "      <th>9</th>\n",
              "      <td>Verbal</td>\n",
              "      <td>Finding Errors</td>\n",
              "      <td>44054</td>\n",
              "      <td>Read the sentence to find out whether there is...</td>\n",
              "      <td>2</td>\n",
              "    </tr>\n",
              "    <tr>\n",
              "      <th>12</th>\n",
              "      <td>Quantitative</td>\n",
              "      <td>Time and Distance</td>\n",
              "      <td>Time and Distance - Model 03</td>\n",
              "      <td>Two cars start from the same point at the same...</td>\n",
              "      <td>3</td>\n",
              "    </tr>\n",
              "  </tbody>\n",
              "</table>\n",
              "</div>"
            ],
            "text/plain": [
              "        Category  ... Answers\n",
              "1   Quantitative  ...       2\n",
              "2         Verbal  ...       2\n",
              "5         Verbal  ...       2\n",
              "9         Verbal  ...       2\n",
              "12  Quantitative  ...       3\n",
              "\n",
              "[5 rows x 5 columns]"
            ]
          },
          "metadata": {
            "tags": []
          },
          "execution_count": 4
        }
      ]
    },
    {
      "cell_type": "markdown",
      "metadata": {
        "id": "5RzclUxhkn67"
      },
      "source": [
        "## **Stage 2:** Data Pre-Processing\n",
        "\n",
        "### 3 Marks -> Clean and Transform the data into a specified format\n",
        "\n",
        "*   Remove the rows of the Questions column which contains blank / NaN.\n",
        "\n",
        "\n",
        "*   Few set of questions have HTML tags within the question.\n",
        "  - You can use Beautiful Soup library to convert HTML into text (Refer **\"Dealing with HTML\"** section from this [link](https://www.nltk.org/book/ch03.html).)\n",
        "\n",
        "\n",
        "*  Consider Question column as feature and Sub-category as target variable. Convert Sub-category into numerical.\n",
        "\n",
        "*  Drop the unwanted columns\n",
        "\n",
        "\n",
        "  **Hint:** Use Label Encoder for obtaining a numeric representation, refer to the [link](https://scikit-learn.org/stable/modules/generated/sklearn.preprocessing.LabelEncoder.html). "
      ]
    },
    {
      "cell_type": "code",
      "metadata": {
        "id": "Whj-50DlTwyZ",
        "colab": {
          "base_uri": "https://localhost:8080/"
        },
        "outputId": "2b9b8537-dccf-4de1-df9d-31927dc45530"
      },
      "source": [
        "# YOUR CODE HERE for BeatifulSoup\n",
        "\n",
        "## Remove the rows with blank/NaN Questions\n",
        "print(reqData.isna().sum())\n",
        "print(f\"\\n ##> Data shape before dropna on Questions : {reqData.shape}\")\n",
        "reqData = reqData.dropna(subset=['Questions'])\n",
        "print(f\"\\n ##> Data shape after dropna on Questions : {reqData.shape}\")\n",
        "\n",
        "## Convert HTML into text\n",
        "reqData['Questions'] = reqData['Questions'].apply(lambda text: BeautifulSoup(text, 'html.parser').get_text())\n",
        "print(reqData['Questions'])\n",
        "\n",
        "## Drop unwanted columns\n",
        "reqData = reqData.drop(labels=['Category', 'Article', 'Answers'], axis=1)\n"
      ],
      "execution_count": null,
      "outputs": [
        {
          "output_type": "stream",
          "text": [
            "Category        0\n",
            "Sub-Category    0\n",
            "Article         0\n",
            "Questions       0\n",
            "Answers         0\n",
            "dtype: int64\n",
            "\n",
            " ##> Data shape before dropna on Questions : (1607, 5)\n",
            "\n",
            " ##> Data shape after dropna on Questions : (1607, 5)\n",
            "1       Rohan leaves point A and reaches point B in 6 ...\n",
            "2       Read the sentence to find out whether there is...\n",
            "5       Read the sentence to find out whether there is...\n",
            "9       Read the sentence to find out whether there is...\n",
            "12      Two cars start from the same point at the same...\n",
            "                              ...                        \n",
            "4620    Until 1850, the speed of signals along nerves ...\n",
            "4622    Read the sentence to find out whether there is...\n",
            "4623    If a man cycles at 10 km/hr, then he arrives a...\n",
            "4625    Raj and Sai have money in the ratio 3 : 4. Twi...\n",
            "4630    A man sets out on cycle from Delhi to Faridaba...\n",
            "Name: Questions, Length: 1607, dtype: object\n"
          ],
          "name": "stdout"
        }
      ]
    },
    {
      "cell_type": "code",
      "metadata": {
        "colab": {
          "base_uri": "https://localhost:8080/",
          "height": 204
        },
        "id": "ENYN2FkD9iJ1",
        "outputId": "5fb3af38-9378-4f5f-b172-98c5608892a7"
      },
      "source": [
        "reqData.head()"
      ],
      "execution_count": null,
      "outputs": [
        {
          "output_type": "execute_result",
          "data": {
            "text/html": [
              "<div>\n",
              "<style scoped>\n",
              "    .dataframe tbody tr th:only-of-type {\n",
              "        vertical-align: middle;\n",
              "    }\n",
              "\n",
              "    .dataframe tbody tr th {\n",
              "        vertical-align: top;\n",
              "    }\n",
              "\n",
              "    .dataframe thead th {\n",
              "        text-align: right;\n",
              "    }\n",
              "</style>\n",
              "<table border=\"1\" class=\"dataframe\">\n",
              "  <thead>\n",
              "    <tr style=\"text-align: right;\">\n",
              "      <th></th>\n",
              "      <th>Sub-Category</th>\n",
              "      <th>Questions</th>\n",
              "    </tr>\n",
              "  </thead>\n",
              "  <tbody>\n",
              "    <tr>\n",
              "      <th>1</th>\n",
              "      <td>Time and Distance</td>\n",
              "      <td>Rohan leaves point A and reaches point B in 6 ...</td>\n",
              "    </tr>\n",
              "    <tr>\n",
              "      <th>2</th>\n",
              "      <td>Finding Errors</td>\n",
              "      <td>Read the sentence to find out whether there is...</td>\n",
              "    </tr>\n",
              "    <tr>\n",
              "      <th>5</th>\n",
              "      <td>Finding Errors</td>\n",
              "      <td>Read the sentence to find out whether there is...</td>\n",
              "    </tr>\n",
              "    <tr>\n",
              "      <th>9</th>\n",
              "      <td>Finding Errors</td>\n",
              "      <td>Read the sentence to find out whether there is...</td>\n",
              "    </tr>\n",
              "    <tr>\n",
              "      <th>12</th>\n",
              "      <td>Time and Distance</td>\n",
              "      <td>Two cars start from the same point at the same...</td>\n",
              "    </tr>\n",
              "  </tbody>\n",
              "</table>\n",
              "</div>"
            ],
            "text/plain": [
              "         Sub-Category                                          Questions\n",
              "1   Time and Distance  Rohan leaves point A and reaches point B in 6 ...\n",
              "2      Finding Errors  Read the sentence to find out whether there is...\n",
              "5      Finding Errors  Read the sentence to find out whether there is...\n",
              "9      Finding Errors  Read the sentence to find out whether there is...\n",
              "12  Time and Distance  Two cars start from the same point at the same..."
            ]
          },
          "metadata": {
            "tags": []
          },
          "execution_count": 6
        }
      ]
    },
    {
      "cell_type": "code",
      "metadata": {
        "id": "VaMiP9gextc5",
        "colab": {
          "base_uri": "https://localhost:8080/",
          "height": 204
        },
        "outputId": "7b5d3595-dbd1-4a12-a885-04cc0cf35185"
      },
      "source": [
        "from sklearn import preprocessing\n",
        "le = preprocessing.LabelEncoder() # DO NOT CHANGE THIS LINE as we will be using for the Test evaluation.\n",
        "\n",
        "# YOUR CODE HERE for Fit label encoder and return encoded labels\n",
        "reqData['Sub-Category'] = le.fit_transform(reqData['Sub-Category'])\n",
        "reqData.head()"
      ],
      "execution_count": null,
      "outputs": [
        {
          "output_type": "execute_result",
          "data": {
            "text/html": [
              "<div>\n",
              "<style scoped>\n",
              "    .dataframe tbody tr th:only-of-type {\n",
              "        vertical-align: middle;\n",
              "    }\n",
              "\n",
              "    .dataframe tbody tr th {\n",
              "        vertical-align: top;\n",
              "    }\n",
              "\n",
              "    .dataframe thead th {\n",
              "        text-align: right;\n",
              "    }\n",
              "</style>\n",
              "<table border=\"1\" class=\"dataframe\">\n",
              "  <thead>\n",
              "    <tr style=\"text-align: right;\">\n",
              "      <th></th>\n",
              "      <th>Sub-Category</th>\n",
              "      <th>Questions</th>\n",
              "    </tr>\n",
              "  </thead>\n",
              "  <tbody>\n",
              "    <tr>\n",
              "      <th>1</th>\n",
              "      <td>4</td>\n",
              "      <td>Rohan leaves point A and reaches point B in 6 ...</td>\n",
              "    </tr>\n",
              "    <tr>\n",
              "      <th>2</th>\n",
              "      <td>0</td>\n",
              "      <td>Read the sentence to find out whether there is...</td>\n",
              "    </tr>\n",
              "    <tr>\n",
              "      <th>5</th>\n",
              "      <td>0</td>\n",
              "      <td>Read the sentence to find out whether there is...</td>\n",
              "    </tr>\n",
              "    <tr>\n",
              "      <th>9</th>\n",
              "      <td>0</td>\n",
              "      <td>Read the sentence to find out whether there is...</td>\n",
              "    </tr>\n",
              "    <tr>\n",
              "      <th>12</th>\n",
              "      <td>4</td>\n",
              "      <td>Two cars start from the same point at the same...</td>\n",
              "    </tr>\n",
              "  </tbody>\n",
              "</table>\n",
              "</div>"
            ],
            "text/plain": [
              "    Sub-Category                                          Questions\n",
              "1              4  Rohan leaves point A and reaches point B in 6 ...\n",
              "2              0  Read the sentence to find out whether there is...\n",
              "5              0  Read the sentence to find out whether there is...\n",
              "9              0  Read the sentence to find out whether there is...\n",
              "12             4  Two cars start from the same point at the same..."
            ]
          },
          "metadata": {
            "tags": []
          },
          "execution_count": 7
        }
      ]
    },
    {
      "cell_type": "markdown",
      "metadata": {
        "id": "7AOtxyuBtdKv"
      },
      "source": [
        "## **Stage 3:** Text representation using Bag of Words (BOW)\n",
        "\n",
        "### 3 Marks -> a) Get valid words from all questions & add them to a list.\n",
        "\n",
        "\n",
        "Treat each question as a separate document and get the list of words using the following:\n",
        "1.   Split the sentence into words\n",
        "\n",
        "2.   Remove Stop words. Use NLTK packages for getting the Stop words.\n",
        "\n",
        "3.   Replace proper names with \"name\" \n",
        "  - Example: \"Rahul\" -> \"name\"\n",
        "       \n",
        "4.   Remove the single white space character (\\n, \\t, \\f, \\r), refer [link](https://developers.google.com/edu/python/regular-expressions)\n",
        "\n",
        "5.   Ignore words whose length is less than 3 (Eg: 'is', 'a').\n",
        "\n",
        "6.   Remove punctuation and non-alphabetic words\n",
        "\n",
        "7.   Convert the text to lowercase\n",
        "\n",
        "8.   Use the Porter Stemmer to normalize the words\n",
        "\n",
        "\n",
        "Refer [link](https://www.nltk.org/book/ch03.html) for extracting the words.\n",
        "\n",
        "Refer [link](https://medium.com/free-code-camp/an-introduction-to-bag-of-words-and-how-to-code-it-in-python-for-nlp-282e87a9da04) for more information."
      ]
    },
    {
      "cell_type": "code",
      "metadata": {
        "id": "jLyMy2q9rGK_"
      },
      "source": [
        "def extract_words(question):\n",
        "    # YOUR CODE HERE\n",
        "    # Hint: Extract words for each question using the above 8 instructions.\n",
        "    porter = nltk.PorterStemmer()\n",
        "    ## Split the words\n",
        "    wordTokens = word_tokenize(question)\n",
        "    ## Remove stop words\n",
        "    wordListNoStop = [w for w in wordTokens if w not in set(stopwords.words('english'))]\n",
        "    ## Replace proper names\n",
        "    wordListNoName = ['name' if nltk.pos_tag([w]) == 'NN' else w for w in wordListNoStop]\n",
        "    ## Remove white spaces\n",
        "    wordListNoWS = [re.sub(r'[\\f\\n\\r\\s\\t]+','',w) for w in wordListNoName]\n",
        "    ## Ignore words with length less than 3\n",
        "    wordListNoLen = [w for w in wordListNoWS if len(w) >= 3]\n",
        "    ## Remove punctuation and non-alphabetic words\n",
        "    wordListNoPunc = [w for w in wordListNoLen if w not in string.punctuation]\n",
        "    wordListNoNonAlpha = [re.sub(r'[^a-zA-Z]+','',w) for w in wordListNoPunc]\n",
        "    ## Convert to lower case\n",
        "    wordListLC = [w.lower() for w in wordListNoNonAlpha]\n",
        "    ## Apply Porter Stemmer\n",
        "    wordList = [porter.stem(w) for w in wordListLC]\n",
        "    wordListNoPunc = [w for w in wordListNoLen if w is not '']\n",
        "    return wordList"
      ],
      "execution_count": null,
      "outputs": []
    },
    {
      "cell_type": "code",
      "metadata": {
        "id": "C_eiynShd7bK"
      },
      "source": [
        "def tokenize(allquestions):\n",
        "  valid_words = []\n",
        "  for question in allquestions:\n",
        "    words = extract_words(question)\n",
        "    valid_words.extend(words)\n",
        "  return set(valid_words)"
      ],
      "execution_count": null,
      "outputs": []
    },
    {
      "cell_type": "code",
      "metadata": {
        "id": "_ty4DphvV7oM"
      },
      "source": [
        "# Use the function to extract words for all questions\n",
        "# YOUR CODE HERE\n",
        "vocab = tokenize(reqData['Questions'])\n",
        "len(vocab), vocab"
      ],
      "execution_count": null,
      "outputs": []
    },
    {
      "cell_type": "markdown",
      "metadata": {
        "id": "9csJ86Bivg1H"
      },
      "source": [
        "### 4 Marks -> b) Generate vectors that can be used by the machine learning algorithm\n",
        "\n",
        "\n",
        "1.   The length of the vector for each question will be the length of the valid words. Initialize each vector with all Zeros\n",
        "\n",
        "2.   Compare each valid word with the words in question and generate the vectors based on the counter frequency of the word in that question.\n",
        "\n"
      ]
    },
    {
      "cell_type": "code",
      "metadata": {
        "id": "gbV4VzDOLQ4X"
      },
      "source": [
        "def generate_vectors(question):\n",
        "    # YOUR CODE HERE\n",
        "    # Hint: Initialize each vector with all zeros. \n",
        "    #reqVec = np.zeros((1, len(vocab)))\n",
        "    reqVec = np.zeros((len(vocab)))\n",
        "\n",
        "    # Extracting words for each question and count the words\n",
        "    words = extract_words(question)\n",
        "    word_dict = Counter(words)\n",
        "\n",
        "    # YOUR CODE HERE \n",
        "    # Hint: If the word is in valid words then generate the vectors based on the counter frequency of the word in that question.\n",
        "    for i,w in enumerate(vocab):\n",
        "        if w in word_dict.keys():\n",
        "            #reqVec[0,i] = word_dict[w]\n",
        "            reqVec[i] = word_dict[w]\n",
        "    return reqVec"
      ],
      "execution_count": null,
      "outputs": []
    },
    {
      "cell_type": "code",
      "metadata": {
        "id": "mnQEkbj--Zof",
        "colab": {
          "base_uri": "https://localhost:8080/"
        },
        "outputId": "840f61a1-666e-43b8-cdf9-2f041ae836fa"
      },
      "source": [
        "# Use the above function for collecting the vectors of all questions into a list.\n",
        "# YOUR CODE HERE\n",
        "features = np.array([generate_vectors(sentance) for sentance in reqData['Questions']])\n",
        "tmplabelsVec3 = np.array([l for l in reqData['Sub-Category']])\n",
        "features.shape, labels.shape"
      ],
      "execution_count": null,
      "outputs": [
        {
          "output_type": "execute_result",
          "data": {
            "text/plain": [
              "((1607, 2653), (1607,))"
            ]
          },
          "metadata": {
            "tags": []
          },
          "execution_count": 121
        }
      ]
    },
    {
      "cell_type": "code",
      "metadata": {
        "colab": {
          "base_uri": "https://localhost:8080/"
        },
        "id": "PWEQQZaogxuQ",
        "outputId": "05a87743-4041-458b-be03-0557d29f8753"
      },
      "source": [
        "from sklearn.feature_extraction.text import CountVectorizer\n",
        "vectorizer = CountVectorizer()\n",
        "X = vectorizer.fit_transform(reqData['Questions'])\n",
        "print(X.toarray())\n",
        "X.shape"
      ],
      "execution_count": null,
      "outputs": [
        {
          "output_type": "stream",
          "text": [
            "[[0 0 0 ... 0 0 0]\n",
            " [0 0 0 ... 0 0 0]\n",
            " [0 0 0 ... 0 0 0]\n",
            " ...\n",
            " [0 0 0 ... 0 0 0]\n",
            " [0 0 0 ... 0 0 0]\n",
            " [0 0 0 ... 0 0 0]]\n"
          ],
          "name": "stdout"
        },
        {
          "output_type": "execute_result",
          "data": {
            "text/plain": [
              "(1607, 3947)"
            ]
          },
          "metadata": {
            "tags": []
          },
          "execution_count": 39
        }
      ]
    },
    {
      "cell_type": "markdown",
      "metadata": {
        "id": "I-Og4IX5ZYRm"
      },
      "source": [
        "## **Stage 4:** Classification\n",
        "\n",
        "### 3 Marks -> Perform a Classification \n",
        "\n",
        "1.   Identify the features and labels\n",
        "\n",
        "2.   Use train_test_split for splitting the train and test data\n",
        "\n",
        "3.   Fit your model on the train set using fit() and perform prediction on the test set using predict()\n",
        "\n",
        "4. Get the accuracy of the model\n",
        "\n",
        "## Expected Accuracy above 90%\n"
      ]
    },
    {
      "cell_type": "code",
      "metadata": {
        "id": "FjlN6HSMQkqm"
      },
      "source": [
        "from sklearn.model_selection import train_test_split\n",
        "# YOUR CODE HERE\n",
        "xTrain, xTest, yTrain, yTest = train_test_split(features, labels, test_size=0.20, random_state = 9)"
      ],
      "execution_count": null,
      "outputs": []
    },
    {
      "cell_type": "code",
      "metadata": {
        "colab": {
          "base_uri": "https://localhost:8080/"
        },
        "id": "NtBUBOqVWSON",
        "outputId": "6b84ab26-2427-4a40-d42a-33002059edc7"
      },
      "source": [
        "xTrain.shape, xTest.shape, yTrain.shape, yTest.shape"
      ],
      "execution_count": null,
      "outputs": [
        {
          "output_type": "execute_result",
          "data": {
            "text/plain": [
              "((1285, 2653), (322, 2653), (1285,), (322,))"
            ]
          },
          "metadata": {
            "tags": []
          },
          "execution_count": 123
        }
      ]
    },
    {
      "cell_type": "code",
      "metadata": {
        "colab": {
          "base_uri": "https://localhost:8080/"
        },
        "id": "cHKrqihySwL5",
        "outputId": "daaf8e93-526f-43c5-dc97-2f41a01520af"
      },
      "source": [
        "## Decision Tree\n",
        "dtClf = DecisionTreeClassifier(criterion='entropy', max_depth=33, random_state=1)\n",
        "dtClf.fit(xTrain, yTrain)\n",
        "yPred = dtClf.predict(xTest)\n",
        "print(f\"##> Training Accuracy with DECISSION TREE : {dtClf.score(xTrain,yTrain)}\")\n",
        "print(f\"##> Testing Accuracy with DECISSION TREE : {accuracy_score(yTest, yPred)}\\n\")"
      ],
      "execution_count": null,
      "outputs": [
        {
          "output_type": "stream",
          "text": [
            "##> Training Accuracy with DECISSION TREE : 0.9891050583657588\n",
            "##> Testing Accuracy with DECISSION TREE : 0.9409937888198758\n",
            "\n"
          ],
          "name": "stdout"
        }
      ]
    },
    {
      "cell_type": "code",
      "metadata": {
        "colab": {
          "base_uri": "https://localhost:8080/"
        },
        "id": "Dm1nCC9KCpGH",
        "outputId": "59231f44-0100-46b5-ab9e-d81e1b650289"
      },
      "source": [
        "## KNN\n",
        "#knnClf = KNeighborsClassifier(n_neighbors=2, weights='distance', p=1) # 100% accuracy with n_neighbors=2\n",
        "knnClf = KNeighborsClassifier()\n",
        "knnClf.fit(xTrain,yTrain)\n",
        "yPred = knnClf.predict(xTest)\n",
        "print(f\"##> Training Accuracy with KNN : {knnClf.score(xTrain,yTrain)}\")\n",
        "print(f\"##> Testing Accuracy with KNN : {accuracy_score(yTest, yPred)}\\n\")"
      ],
      "execution_count": null,
      "outputs": [
        {
          "output_type": "stream",
          "text": [
            "##> Training Accuracy with KNN : 0.846692607003891\n",
            "##> Testing Accuracy with KNN : 0.7981366459627329\n",
            "\n"
          ],
          "name": "stdout"
        }
      ]
    },
    {
      "cell_type": "code",
      "metadata": {
        "colab": {
          "base_uri": "https://localhost:8080/"
        },
        "id": "6i9Va9fFFF7s",
        "outputId": "5889eb24-f803-4883-e4e5-5a920b7bc101"
      },
      "source": [
        "## Linear Classifier\n",
        "from sklearn.linear_model import SGDClassifier\n",
        "linClf = SGDClassifier(loss='perceptron', alpha=0.001, penalty='l1')\n",
        "linClf.fit(xTrain,yTrain)\n",
        "yPred = linClf.predict(xTest)\n",
        "print(f\"##> Training Accuracy with LINEAR CLASSIFIER : {linClf.score(xTrain,yTrain)}\")\n",
        "print(f\"##> Testing Accuracy with LINEAR CLASSIFIER : {accuracy_score(yTest, yPred)}\\n\")"
      ],
      "execution_count": null,
      "outputs": [
        {
          "output_type": "stream",
          "text": [
            "##> Training Accuracy with LINEAR CLASSIFIER : 0.9743190661478599\n",
            "##> Testing Accuracy with LINEAR CLASSIFIER : 0.9440993788819876\n",
            "\n"
          ],
          "name": "stdout"
        }
      ]
    },
    {
      "cell_type": "code",
      "metadata": {
        "colab": {
          "base_uri": "https://localhost:8080/"
        },
        "id": "4bMY6MAoFIt8",
        "outputId": "ef59183d-686d-43e2-e04d-38718733366e"
      },
      "source": [
        "## SVM\n",
        "from sklearn.svm import SVC \n",
        "svmClf = SVC(kernel='poly', degree=3, coef0=1, C=2.0)\n",
        "svmClf.fit(xTrain, yTrain)\n",
        "yPred = svmClf.predict(xTest)\n",
        "print(f\"##> Training Accuracy with SVM CLASSIFIER : {svmClf.score(xTrain,yTrain)}\")\n",
        "print(f\"##> Testing Accuracy with SVM CLASSIFIER : {accuracy_score(yTest, yPred)}\\n\")"
      ],
      "execution_count": null,
      "outputs": [
        {
          "output_type": "stream",
          "text": [
            "##> Training Accuracy with SVM CLASSIFIER : 0.9891050583657588\n",
            "##> Testing Accuracy with SVM CLASSIFIER : 0.953416149068323\n",
            "\n"
          ],
          "name": "stdout"
        }
      ]
    },
    {
      "cell_type": "code",
      "metadata": {
        "colab": {
          "base_uri": "https://localhost:8080/"
        },
        "id": "NxjqHHy5FhU8",
        "outputId": "3969867b-bff9-480b-8fc5-370fff5ff047"
      },
      "source": [
        "## Ensemble : Voting\n",
        "from sklearn.ensemble import VotingClassifier\n",
        "voteClf = VotingClassifier(estimators=[('SVC',svmClf),('Dtree',dtClf),('LogReg',linClf)],voting = 'hard')\n",
        "voteClf.fit(xTrain, yTrain)\n",
        "yPred = voteClf.predict(xTest)\n",
        "print(f\"##> Training Accuracy with LINEAR CLASSIFIER : {voteClf.score(xTrain,yTrain)}\")\n",
        "print(f\"##> Testing Accuracy with LINEAR CLASSIFIER : {accuracy_score(yTest, yPred)}\\n\")"
      ],
      "execution_count": null,
      "outputs": [
        {
          "output_type": "stream",
          "text": [
            "##> Training Accuracy with LINEAR CLASSIFIER : 0.9883268482490273\n",
            "##> Testing Accuracy with LINEAR CLASSIFIER : 0.953416149068323\n",
            "\n"
          ],
          "name": "stdout"
        }
      ]
    },
    {
      "cell_type": "code",
      "metadata": {
        "colab": {
          "base_uri": "https://localhost:8080/"
        },
        "id": "wVvqA7_YG0Oy",
        "outputId": "a023e095-9f57-4479-b659-34bcf2d6a55c"
      },
      "source": [
        "## Ensemble : Bagging + Votting\n",
        "from sklearn.ensemble import BaggingClassifier\n",
        "bgVotClf = BaggingClassifier(base_estimator=voteClf, n_estimators=100)\n",
        "bgVotClf.fit(xTrain, yTrain)\n",
        "yPred = bgVotClf.predict(xTest)\n",
        "print(f\"##> Training Accuracy with LINEAR CLASSIFIER : {bgVotClf.score(xTrain,yTrain)}\")\n",
        "print(f\"##> Testing Accuracy with LINEAR CLASSIFIER : {accuracy_score(yTest, yPred)}\\n\")"
      ],
      "execution_count": null,
      "outputs": [
        {
          "output_type": "stream",
          "text": [
            "##> Training Accuracy with LINEAR CLASSIFIER : 0.9953307392996109\n",
            "##> Testing Accuracy with LINEAR CLASSIFIER : 0.9472049689440993\n",
            "\n"
          ],
          "name": "stdout"
        }
      ]
    },
    {
      "cell_type": "code",
      "metadata": {
        "colab": {
          "base_uri": "https://localhost:8080/"
        },
        "id": "uiHXiqQ1LJcA",
        "outputId": "da14c421-a691-420e-8101-bca55b48e8d7"
      },
      "source": [
        "## Ensemble : Bagging + DT\n",
        "from sklearn.ensemble import BaggingClassifier\n",
        "bgDTClf = BaggingClassifier(base_estimator=DecisionTreeClassifier(criterion='gini', max_depth=31), n_estimators=100)\n",
        "bgDTClf.fit(xTrain, yTrain)\n",
        "yPred = bgDTClf.predict(xTest)\n",
        "print(f\"##> Training Accuracy with LINEAR CLASSIFIER : {bgDTClf.score(xTrain,yTrain)}\")\n",
        "print(f\"##> Testing Accuracy with LINEAR CLASSIFIER : {accuracy_score(yTest, yPred)}\\n\")"
      ],
      "execution_count": null,
      "outputs": [
        {
          "output_type": "stream",
          "text": [
            "##> Training Accuracy with LINEAR CLASSIFIER : 0.9945525291828794\n",
            "##> Testing Accuracy with LINEAR CLASSIFIER : 0.9440993788819876\n",
            "\n"
          ],
          "name": "stdout"
        }
      ]
    },
    {
      "cell_type": "markdown",
      "metadata": {
        "id": "BHxULg4OggQe"
      },
      "source": [
        "## **Stage 5:** Evaluation (This is for Mentors)\n",
        "\n",
        "### 6 Marks -> Evaluate with the given test data \n",
        "\n",
        "1.  Loading the Test data\n",
        "\n",
        "2.  Converting the Test data into vectors\n",
        "\n",
        "3.  Pass through the model and verify the accuracy\n",
        "\n",
        "## Expected Accuracy above 90%\n"
      ]
    },
    {
      "cell_type": "code",
      "metadata": {
        "id": "BWM4Boa4zXAs",
        "colab": {
          "base_uri": "https://localhost:8080/"
        },
        "outputId": "01af193d-1ad6-4e52-d890-b5d4e3b126c3"
      },
      "source": [
        "# YOUR CODE HERE for selecting the trained classifier model, eg: MODEL = decision_tree\n",
        "MODEL = bgVotClf # bgDTClf #bgVotClf # voteClf # dtClf #ENTER YOUR MODEL\n",
        "\n",
        "Test_data = pd.read_csv(\"Mentors_Test_Data.csv\")\n",
        "Test_data = Test_data[Test_data['Sub-Category'].isin(le.classes_)]\n",
        "labels = le.transform(Test_data['Sub-Category'])\n",
        "Test_questions= Test_data['Questions']\n",
        "\n",
        "Test_BOW=[]\n",
        "for TQ in Test_questions: \n",
        "  Test_vectors = generate_vectors(TQ) \n",
        "  Test_BOW.append(Test_vectors)\n",
        "\n",
        "predict = MODEL.predict(Test_BOW) \n",
        "accuracy_score(labels, predict)"
      ],
      "execution_count": null,
      "outputs": [
        {
          "output_type": "execute_result",
          "data": {
            "text/plain": [
              "0.9325842696629213"
            ]
          },
          "metadata": {
            "tags": []
          },
          "execution_count": 197
        }
      ]
    },
    {
      "cell_type": "code",
      "metadata": {
        "id": "c6bPmVH8P6Gj"
      },
      "source": [
        ""
      ],
      "execution_count": null,
      "outputs": []
    }
  ]
}